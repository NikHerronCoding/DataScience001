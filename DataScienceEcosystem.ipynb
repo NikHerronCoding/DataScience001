{
 "cells": [
  {
   "cell_type": "markdown",
   "id": "c1a2038a-a174-4cb6-b7ea-ceef37a703f7",
   "metadata": {},
   "source": [
    "# Data Science Tools and Ecosystem"
   ]
  },
  {
   "cell_type": "markdown",
   "id": "a17ff4ce-0132-40eb-bb76-7a8c8286cd29",
   "metadata": {},
   "source": [
    "## Author\n",
    "Nik Herron"
   ]
  },
  {
   "cell_type": "markdown",
   "id": "66a61198-3ff9-4870-a69a-a04ecf5036ac",
   "metadata": {},
   "source": [
    "In this notebook, Data Science Tools and Ecosystem are summarized."
   ]
  },
  {
   "cell_type": "markdown",
   "id": "26e6edc0-3b2d-4381-8985-7f02b8f8271a",
   "metadata": {},
   "source": [
    "**Objectives:**\n",
    "\n",
    "* List popular languages for data science\n",
    "* List popular libraries for data science\n",
    "* List popular tools for data science\n",
    "* Demonstrate how to evaluate arithmetic languages in python using a jupyter notebook"
   ]
  },
  {
   "cell_type": "markdown",
   "id": "ebdffa4d-47f9-4185-b753-0b98c0ddfd81",
   "metadata": {},
   "source": [
    "Some of the popular languages that Data Scientists use are:\n",
    "\n",
    "1. Python\n",
    "2. R\n",
    "3. SQL\n"
   ]
  },
  {
   "cell_type": "markdown",
   "id": "3efec12b-322a-44de-81f5-96f78ce35c23",
   "metadata": {},
   "source": [
    "Some of the commonly used libraries used by Data Scientists include:\n",
    "\n",
    "1. Numpy\n",
    "2. Pandas\n",
    "3. Tensorflow\n",
    "\n"
   ]
  },
  {
   "cell_type": "markdown",
   "id": "d8fcfe8d-3608-41d6-b006-b9708f46dff9",
   "metadata": {},
   "source": [
    "| Data Science Tools |\n",
    "|--------------------|\n",
    "| Jupyter Notebook   |\n",
    "| R Studio           |\n",
    "|    Apache Spark    |\n"
   ]
  },
  {
   "cell_type": "markdown",
   "id": "7a141b9c-7cf9-492b-88b7-8b3097e1d6aa",
   "metadata": {},
   "source": [
    "### Below are a few examples of evaluating arithmetic expressions in Python"
   ]
  },
  {
   "cell_type": "code",
   "execution_count": 6,
   "id": "aae25bc2-0442-425e-b429-8d2ed6ba6e3b",
   "metadata": {},
   "outputs": [
    {
     "data": {
      "text/plain": [
       "17"
      ]
     },
     "execution_count": 6,
     "metadata": {},
     "output_type": "execute_result"
    }
   ],
   "source": [
    "(3 * 4) + 5"
   ]
  },
  {
   "cell_type": "code",
   "execution_count": 7,
   "id": "ae580432-8842-4c62-bb9e-cee5e8f35890",
   "metadata": {},
   "outputs": [
    {
     "data": {
      "text/plain": [
       "3.3333333333333335"
      ]
     },
     "execution_count": 7,
     "metadata": {},
     "output_type": "execute_result"
    }
   ],
   "source": [
    "# This will convert 200 minutes to hours by dividing by 60\n",
    "\n",
    "200 / 60"
   ]
  }
 ],
 "metadata": {
  "kernelspec": {
   "display_name": "Python 3 (ipykernel)",
   "language": "python",
   "name": "python3"
  },
  "language_info": {
   "codemirror_mode": {
    "name": "ipython",
    "version": 3
   },
   "file_extension": ".py",
   "mimetype": "text/x-python",
   "name": "python",
   "nbconvert_exporter": "python",
   "pygments_lexer": "ipython3",
   "version": "3.12.0"
  }
 },
 "nbformat": 4,
 "nbformat_minor": 5
}
